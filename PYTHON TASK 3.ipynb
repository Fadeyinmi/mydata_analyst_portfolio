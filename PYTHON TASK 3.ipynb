{
 "cells": [
  {
   "cell_type": "code",
   "execution_count": 234,
   "id": "1e1c394e",
   "metadata": {},
   "outputs": [
    {
     "data": {
      "text/plain": [
       "array([[ 1,  2,  3,  4,  5],\n",
       "       [ 6,  7,  8,  9, 10],\n",
       "       [11, 12, 13, 14, 15],\n",
       "       [16, 17, 18, 19, 20],\n",
       "       [21, 22, 23, 24, 25]])"
      ]
     },
     "execution_count": 234,
     "metadata": {},
     "output_type": "execute_result"
    }
   ],
   "source": [
    "#1. use this data to solve subsequent challenges\n",
    "import numpy as np\n",
    "data = np.arange(1,26).reshape(5,5)\n",
    "data"
   ]
  },
  {
   "cell_type": "code",
   "execution_count": 258,
   "id": "8e8c9cbb",
   "metadata": {},
   "outputs": [
    {
     "data": {
      "text/plain": [
       "array([[12, 13, 14, 15],\n",
       "       [17, 18, 19, 20],\n",
       "       [22, 23, 24, 25]])"
      ]
     },
     "execution_count": 258,
     "metadata": {},
     "output_type": "execute_result"
    }
   ],
   "source": [
    "# 2. bring out the following from data above array\n",
    "#array([[12, 13, 14, 15],\n",
    "#        [17, 18, 19, 20],\n",
    "#        [22, 23, 24, 25]])\n",
    "\n",
    "data[2:5,1:5]"
   ]
  },
  {
   "cell_type": "code",
   "execution_count": 264,
   "id": "b3abe90c",
   "metadata": {},
   "outputs": [
    {
     "data": {
      "text/plain": [
       "array([[ 2],\n",
       "       [ 7],\n",
       "       [12]])"
      ]
     },
     "execution_count": 264,
     "metadata": {},
     "output_type": "execute_result"
    }
   ],
   "source": [
    "# 3. produce the output below from the data above\n",
    "# array([[ 2],\n",
    "#        [ 7],\n",
    "#        [12]])\n",
    "data[:3,[1]]"
   ]
  },
  {
   "cell_type": "code",
   "execution_count": 231,
   "id": "7351ab77",
   "metadata": {},
   "outputs": [
    {
     "data": {
      "text/plain": [
       "array([21, 22, 23, 24, 25])"
      ]
     },
     "execution_count": 231,
     "metadata": {},
     "output_type": "execute_result"
    }
   ],
   "source": [
    "# 4. produce the output below from the data above\n",
    "# array([21, 22, 23, 24, 25])\n",
    "data[4]"
   ]
  },
  {
   "cell_type": "code",
   "execution_count": 60,
   "id": "33779a65",
   "metadata": {},
   "outputs": [
    {
     "name": "stdout",
     "output_type": "stream",
     "text": [
      "325\n"
     ]
    }
   ],
   "source": [
    "# 5. Get the sum of all the values in data\n",
    "total = np.sum(data)\n",
    "print(total)"
   ]
  },
  {
   "cell_type": "code",
   "execution_count": 283,
   "id": "fd4419cd",
   "metadata": {},
   "outputs": [
    {
     "data": {
      "text/plain": [
       "array([55, 60, 65, 70, 75])"
      ]
     },
     "execution_count": 283,
     "metadata": {},
     "output_type": "execute_result"
    }
   ],
   "source": [
    "# # 6. Get the sum of all the columns in data\n",
    "# import matplotlib.pyplot as plt\n",
    "\n",
    "data.sum(0)"
   ]
  },
  {
   "cell_type": "code",
   "execution_count": 282,
   "id": "f648b5d9",
   "metadata": {},
   "outputs": [
    {
     "data": {
      "text/plain": [
       "'gmail.com'"
      ]
     },
     "execution_count": 282,
     "metadata": {},
     "output_type": "execute_result"
    }
   ],
   "source": [
    "# # 7. Create a function that grabs the email and return then website domain from a string \n",
    "# # eg. if you pass in wale@gmail.com, it should return gmail.com\n",
    "def Gmail(email):\n",
    "    \n",
    "    return email.split('@')[-1]\n",
    "\n",
    "Gmail('fadeyinmi@gmail.com')"
   ]
  },
  {
   "cell_type": "code",
   "execution_count": 113,
   "id": "49c7adb0",
   "metadata": {},
   "outputs": [
    {
     "name": "stdout",
     "output_type": "stream",
     "text": [
      "True\n"
     ]
    }
   ],
   "source": [
    "#Create a function that returns True if a word contain 'tech' in an input string.\n",
    "# eg. \"Welcome to black tech\" should return True while \"I am learning python\" will return False\n",
    "\n",
    "Greeting = \"Welcome to black tech\"\n",
    "greeting_sub = \"tech\"\n",
    "\n",
    "if Greeting.find(greeting_sub) != -1:\n",
    "    print(\"True\")\n",
    "else:\n",
    "    print(\"False\")"
   ]
  },
  {
   "cell_type": "code",
   "execution_count": 101,
   "id": "adb87846",
   "metadata": {},
   "outputs": [
    {
     "name": "stdout",
     "output_type": "stream",
     "text": [
      "False\n"
     ]
    }
   ],
   "source": [
    "Greeting = \"I am learning python\"\n",
    "greeting_sub = \"tech\"\n",
    "\n",
    "if Greeting.find(greeting_sub) != -1:\n",
    "    print(\"True\")\n",
    "else:\n",
    "    print(\"False\")"
   ]
  },
  {
   "cell_type": "code",
   "execution_count": 119,
   "id": "0fc8f842",
   "metadata": {},
   "outputs": [
    {
     "data": {
      "text/plain": [
       "2"
      ]
     },
     "execution_count": 119,
     "metadata": {},
     "output_type": "execute_result"
    }
   ],
   "source": [
    "# Create a function that count number of times \"black\" occour in a string\n",
    "# eg. \"black tech is making impact not just for black but globally\"\n",
    "speech = 'black tech is making impact not just for black but globally'\n",
    "speech.count('black')"
   ]
  },
  {
   "cell_type": "code",
   "execution_count": 226,
   "id": "39a447e1",
   "metadata": {},
   "outputs": [
    {
     "name": "stdout",
     "output_type": "stream",
     "text": [
      "no ticket\n"
     ]
    }
   ],
   "source": [
    "#10. You are driving fast and was stopped by a police. \n",
    "#Create a program that return \"no ticket\" if your speed is less than or equal 50. \n",
    "#It should return \"medium\" if your speed is above 50. Return \"High ticket\" if your speed is above 90.\n",
    "\n",
    "\n",
    "if speed <= 50:\n",
    "    print (\"no ticket\")\n",
    "elif speed > 50 and speed < 90:\n",
    "    print (\"medium\")\n",
    "elif speed >= 90:\n",
    "    print (\"High Ticket\")\n",
    "else:\n",
    "    print ('None')\n",
    "    \n",
    "speed = 50"
   ]
  },
  {
   "cell_type": "code",
   "execution_count": null,
   "id": "6365e02d",
   "metadata": {},
   "outputs": [],
   "source": []
  }
 ],
 "metadata": {
  "kernelspec": {
   "display_name": "Python 3 (ipykernel)",
   "language": "python",
   "name": "python3"
  },
  "language_info": {
   "codemirror_mode": {
    "name": "ipython",
    "version": 3
   },
   "file_extension": ".py",
   "mimetype": "text/x-python",
   "name": "python",
   "nbconvert_exporter": "python",
   "pygments_lexer": "ipython3",
   "version": "3.9.12"
  }
 },
 "nbformat": 4,
 "nbformat_minor": 5
}
