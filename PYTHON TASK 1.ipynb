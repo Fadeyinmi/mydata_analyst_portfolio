{
 "cells": [
  {
   "cell_type": "code",
   "execution_count": 1,
   "id": "eedbc62c",
   "metadata": {},
   "outputs": [],
   "source": [
    "#1. Python works on different platforms (Windows, Mac, Linux, Raspberry Pi, etc).\n",
    "#Python has a simple syntax similar to the English language.\n",
    "#Fewer lines of codes are required \n",
    "#Python codes can be executed as soon as it is written making prototyping can be very quick."
   ]
  },
  {
   "cell_type": "code",
   "execution_count": 3,
   "id": "933194d0",
   "metadata": {},
   "outputs": [
    {
     "name": "stdout",
     "output_type": "stream",
     "text": [
      "Welcome to Python\n"
     ]
    }
   ],
   "source": [
    "#2\n",
    "greeting = \"Welcome to Python\"\n",
    "print (greeting)"
   ]
  },
  {
   "cell_type": "code",
   "execution_count": 4,
   "id": "c9c5788f",
   "metadata": {},
   "outputs": [],
   "source": [
    "#3\n",
    "#Rules of naming variable\n",
    "#1 Variable names can contain numbers, letter and underscore (_)\n",
    "#2 VAriables can not contain spaces\n",
    "#3 Variable can not begin with numbers\n",
    "#4 Varibles names can not be reserved words or keywords in python \n",
    "#5 Variable names should be concise and self explanatory\n",
    "#6 avoid using letter I and uppercase O because they look similar to 1 & 0"
   ]
  },
  {
   "cell_type": "code",
   "execution_count": 7,
   "id": "e46f4661",
   "metadata": {},
   "outputs": [
    {
     "name": "stdout",
     "output_type": "stream",
     "text": [
      "My name is Fadeyinmi. I am 18 years old\n"
     ]
    }
   ],
   "source": [
    "#4\n",
    "name = \"Fadeyinmi\"\n",
    "age = 18\n",
    "print(f'My name is {name}. I am {age} years old')"
   ]
  },
  {
   "cell_type": "code",
   "execution_count": 15,
   "id": "8acb6678",
   "metadata": {},
   "outputs": [
    {
     "name": "stdout",
     "output_type": "stream",
     "text": [
      "Fadeyinmi Sokunbi\n"
     ]
    }
   ],
   "source": [
    "#5\n",
    "first_name = \"Fadeyinmi\"\n",
    "last_name = \"Sokunbi\"\n",
    "full_name = (f'{first_name} {last_name}')\n",
    "\n",
    "print(full_name)"
   ]
  },
  {
   "cell_type": "code",
   "execution_count": 17,
   "id": "18acc7a2",
   "metadata": {},
   "outputs": [
    {
     "name": "stdout",
     "output_type": "stream",
     "text": [
      "Fadeyinmi Sokunbi\n"
     ]
    }
   ],
   "source": [
    "#5 \n",
    "full_name = 'Fadeyinmi Sokunbi'\n",
    "print(full_name)"
   ]
  },
  {
   "cell_type": "code",
   "execution_count": 24,
   "id": "dfa18852",
   "metadata": {},
   "outputs": [
    {
     "name": "stdout",
     "output_type": "stream",
     "text": [
      "Fadeyinmi 'I am here' Sokunbi\n"
     ]
    }
   ],
   "source": [
    "#5\n",
    "print (first_name + \" 'I am here' \" +last_name)"
   ]
  },
  {
   "cell_type": "code",
   "execution_count": 29,
   "id": "9494215a",
   "metadata": {},
   "outputs": [
    {
     "data": {
      "text/plain": [
       "'ereh ma i'"
      ]
     },
     "execution_count": 29,
     "metadata": {},
     "output_type": "execute_result"
    }
   ],
   "source": [
    "#6\n",
    "words= 'i am here'\n",
    "words[::-1]"
   ]
  },
  {
   "cell_type": "code",
   "execution_count": 30,
   "id": "dceeebdf",
   "metadata": {},
   "outputs": [],
   "source": [
    "#7\n",
    "#Data Types\n",
    "#strings\n",
    "#numbers\n",
    "#boolean\n",
    "#list\n",
    "#dictionary\n",
    "#turple\n",
    "#set"
   ]
  }
 ],
 "metadata": {
  "kernelspec": {
   "display_name": "Python 3 (ipykernel)",
   "language": "python",
   "name": "python3"
  },
  "language_info": {
   "codemirror_mode": {
    "name": "ipython",
    "version": 3
   },
   "file_extension": ".py",
   "mimetype": "text/x-python",
   "name": "python",
   "nbconvert_exporter": "python",
   "pygments_lexer": "ipython3",
   "version": "3.9.7"
  }
 },
 "nbformat": 4,
 "nbformat_minor": 5
}
