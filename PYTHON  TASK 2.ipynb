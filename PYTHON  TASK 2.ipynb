{
 "cells": [
  {
   "cell_type": "code",
   "execution_count": 48,
   "id": "1838153d",
   "metadata": {},
   "outputs": [
    {
     "data": {
      "text/plain": [
       "'Canada'"
      ]
     },
     "execution_count": 48,
     "metadata": {},
     "output_type": "execute_result"
    }
   ],
   "source": [
    "#1. Bring out Canada in the code below\n",
    "\n",
    "company = {'k1':[1,2,{'k2':['this is tricky',{'tough':[1,2,['Canada']]}]}]}\n",
    "\n",
    "company['k1'][2]['k2'][1]['tough'][2][0]"
   ]
  },
  {
   "cell_type": "code",
   "execution_count": 33,
   "id": "f166b8fc",
   "metadata": {},
   "outputs": [
    {
     "data": {
      "text/plain": [
       "2004"
      ]
     },
     "execution_count": 33,
     "metadata": {},
     "output_type": "execute_result"
    }
   ],
   "source": [
    "#2. bring out the year for Lost season 1 which is 2004\n",
    "\n",
    "tv_shows = {\n",
    " \"The X-Files\": {\n",
    " \"Season 1\": {\n",
    " \"Episodes\": [\"Scary Monster\", \"Scary Alien\"], \"Genre\": \"Science Fiction\",\n",
    " \"Year\": 1993\n",
    " },\n",
    " \"Season 2\": { \"Episodes\": [\"Scary Conspiracy\"], \"Genre\": \"Horror\", \"Year\": 1994 }\n",
    " },\n",
    " \"Lost\": {\n",
    " \"Season 1\": {\n",
    " \"Episodes\": [\"What The Heck Is Happening On This Island?\"],\n",
    " \"Genre\": \"Science Fiction\", \"Year\": 2004\n",
    " }\n",
    " }\n",
    "}\n",
    "\n",
    "\n",
    "tv_shows[\"Lost\"][\"Season 1\"][\"Year\"]"
   ]
  },
  {
   "cell_type": "code",
   "execution_count": 50,
   "id": "5a2a1184",
   "metadata": {},
   "outputs": [],
   "source": [
    "#3. Remove repetition from the items in the data below\n",
    "record = [1,2,2,33,4,4,11,22,3,3,2]"
   ]
  },
  {
   "cell_type": "code",
   "execution_count": 51,
   "id": "8c7ac3ee",
   "metadata": {},
   "outputs": [
    {
     "data": {
      "text/plain": [
       "{1, 2, 3, 4, 11, 22, 33}"
      ]
     },
     "execution_count": 51,
     "metadata": {},
     "output_type": "execute_result"
    }
   ],
   "source": [
    "set(record)"
   ]
  },
  {
   "cell_type": "code",
   "execution_count": 1,
   "id": "8c3a2b65",
   "metadata": {},
   "outputs": [
    {
     "name": "stdout",
     "output_type": "stream",
     "text": [
      "Grade A\n"
     ]
    }
   ],
   "source": [
    "#4.  create a program that take a score and show the grade:\n",
    "\n",
    "#90 - 100 (\"Grade A\")\n",
    "#70 - 89  (\"Grade B\")\n",
    "#50 - 69 (\"Grade C\")\n",
    "#30 - 49 (\"Grade D\")\n",
    "#0 - 29  (\"Grade E\")\n",
    "\n",
    "#If I enter any number as score, it show show the corresponding grade\n",
    "\n",
    "  \n",
    "score = 90\n",
    "if score > 100:\n",
    "    print(\"Invalid Score\")\n",
    "elif score >= 90:\n",
    "    print(\"Grade A\")\n",
    "elif score >= 70:\n",
    "    print(\"Grade B\")\n",
    "elif score >= 50:\n",
    "    print(\"Grade C\")\n",
    "elif score >= 30:\n",
    "    print(\"Grade D\")\n",
    "elif score >= 0:\n",
    "    print(\"Grade E\")    \n",
    "else:\n",
    "    print(\"Negative Score\")"
   ]
  },
  {
   "cell_type": "code",
   "execution_count": 221,
   "id": "64a4ee9f",
   "metadata": {},
   "outputs": [
    {
     "name": "stdout",
     "output_type": "stream",
     "text": [
      "Enter first number2\n",
      "Enter the Operator e.g +,-,*,/-\n",
      "Enter second number4\n"
     ]
    },
    {
     "data": {
      "text/plain": [
       "-2"
      ]
     },
     "execution_count": 221,
     "metadata": {},
     "output_type": "execute_result"
    }
   ],
   "source": [
    "#5. Create a program that accept 2 numbers and operator eg. 5 ,6 and +, it should perform operation based on what the user enter eg 5 + 6\n",
    "#If user enter 2, 8,  and * it should return 2 * 8 and show the answer in the terminal\n",
    "\n",
    "\n",
    "# x=5\n",
    "# y=6\n",
    "# print (x+y)\n",
    "# if x=2,y=8\n",
    "# print(x*y)\n",
    "\n",
    "# example input(\"enter your name\")\n",
    "num1 = int(input(\"Enter first number\"))\n",
    "operator = input (\"Enter the Operator e.g +,-,*,/\")\n",
    "num2 = int(input(\"Enter second number\"))\n",
    "\n",
    "def calculate(x,z):\n",
    "    if operator ==\"+\":\n",
    "        return x+z\n",
    "    elif operator ==\"-\":\n",
    "        return x-z\n",
    "    elif operator ==\"*\":\n",
    "        return x*z\n",
    "    elif operator ==\"/\":\n",
    "        return x/z\n",
    "    else: \n",
    "        return \"invalid input\"\n",
    "\n",
    "\n",
    "calculate(num1, num2)"
   ]
  },
  {
   "cell_type": "code",
   "execution_count": 217,
   "id": "abbc0586",
   "metadata": {},
   "outputs": [
    {
     "name": "stdout",
     "output_type": "stream",
     "text": [
      "['It', 'time', 'python', 'training']\n"
     ]
    }
   ],
   "source": [
    "#6. message = [“It”,”is”, “time”, “for”, “python”, “training”] Bring out all the words that start with “t” \n",
    "\n",
    "message = [\"It\", \"is\", \"time\", \"for\", \"python\", \"training\"] \n",
    "newmessage = [x for x in message if \"t\" in x]\n",
    "print(newmessage)"
   ]
  },
  {
   "cell_type": "code",
   "execution_count": 156,
   "id": "ccc00302",
   "metadata": {},
   "outputs": [
    {
     "name": "stdout",
     "output_type": "stream",
     "text": [
      "26\n"
     ]
    }
   ],
   "source": [
    "#7. Sum all the numbers inside test in the code below\n",
    "#Eg. The above will return 26 which is the total sum of the numbers.\n",
    "Test = [2,5,7,9,3]\n",
    "Sum = sum(Test)\n",
    "print(Sum)"
   ]
  },
  {
   "cell_type": "code",
   "execution_count": 176,
   "id": "f5e95025",
   "metadata": {},
   "outputs": [
    {
     "name": "stdout",
     "output_type": "stream",
     "text": [
      "1\n",
      "2\n",
      "black\n",
      "4\n",
      "tech\n",
      "black\n",
      "7\n",
      "8\n",
      "black\n",
      "tech\n"
     ]
    }
   ],
   "source": [
    "#8. Generate a number from 1 to 10.\n",
    "# If the number is divisible by 3, it should return black.\n",
    "# If it is divisible by 5, it should return tech. \n",
    "# Otherwise it should return the number\n",
    "# Eg. Output should look like 1, 2, black, 4, tech, 6 etc\n",
    "\n",
    "x=1 \n",
    "while x <= 10:\n",
    "    x+=1 \n",
    "for x in range (1,11):\n",
    "    if x % 3 == 0:\n",
    "        print(\"black\")\n",
    "    elif x % 5 == 0:\n",
    "        print(\"tech\")\n",
    "    else:\n",
    "        print(x)"
   ]
  },
  {
   "cell_type": "code",
   "execution_count": 186,
   "id": "75bfbc99",
   "metadata": {},
   "outputs": [
    {
     "name": "stdout",
     "output_type": "stream",
     "text": [
      "[71, 33, 45, 67]\n"
     ]
    }
   ],
   "source": [
    "#9. Create a function that bring out the last 4 digits of any numbers or string passed into it Eg.12345678 should bring out 5678\n",
    "numbers = [17, 18, 22, 32, 43, 32, 51, 71, 33, 45, 67]\n",
    "#len(numbers)\n",
    "print(numbers[7:11])"
   ]
  },
  {
   "cell_type": "code",
   "execution_count": 200,
   "id": "decbbe08",
   "metadata": {},
   "outputs": [
    {
     "name": "stdout",
     "output_type": "stream",
     "text": [
      "['I', 'love', 'python']\n"
     ]
    }
   ],
   "source": [
    "#10. message = [\"I\", \"like\", \"python\"] Change ‘like’ to ‘love’ and print message to show ‘I love python’\n",
    "message = [\"I\", \"like\", \"python\"]\n",
    "message[1]=\"love\"\n",
    "print(message)"
   ]
  },
  {
   "cell_type": "code",
   "execution_count": null,
   "id": "dfd022d0",
   "metadata": {},
   "outputs": [],
   "source": []
  },
  {
   "cell_type": "code",
   "execution_count": null,
   "id": "f420dd22",
   "metadata": {},
   "outputs": [],
   "source": []
  },
  {
   "cell_type": "code",
   "execution_count": null,
   "id": "7f193b7d",
   "metadata": {},
   "outputs": [],
   "source": []
  },
  {
   "cell_type": "code",
   "execution_count": null,
   "id": "d1ec8764",
   "metadata": {},
   "outputs": [],
   "source": []
  },
  {
   "cell_type": "code",
   "execution_count": null,
   "id": "1f06e6dc",
   "metadata": {},
   "outputs": [],
   "source": []
  },
  {
   "cell_type": "code",
   "execution_count": null,
   "id": "b04c03fe",
   "metadata": {},
   "outputs": [],
   "source": []
  },
  {
   "cell_type": "code",
   "execution_count": null,
   "id": "f10e8ef2",
   "metadata": {},
   "outputs": [],
   "source": []
  }
 ],
 "metadata": {
  "kernelspec": {
   "display_name": "Python 3 (ipykernel)",
   "language": "python",
   "name": "python3"
  },
  "language_info": {
   "codemirror_mode": {
    "name": "ipython",
    "version": 3
   },
   "file_extension": ".py",
   "mimetype": "text/x-python",
   "name": "python",
   "nbconvert_exporter": "python",
   "pygments_lexer": "ipython3",
   "version": "3.9.7"
  }
 },
 "nbformat": 4,
 "nbformat_minor": 5
}
